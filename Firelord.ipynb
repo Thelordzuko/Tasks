{
 "cells": [
  {
   "cell_type": "code",
   "execution_count": null,
   "id": "dbd25343",
   "metadata": {
    "vscode": {
     "languageId": "plaintext"
    }
   },
   "outputs": [],
   "source": [
    "print(\"hello world\")"
   ]
  },
  {
   "cell_type": "markdown",
   "id": "4b7dc94b",
   "metadata": {},
   "source": [
    "print(hello world)"
   ]
  }
 ],
 "metadata": {
  "language_info": {
   "name": "python"
  }
 },
 "nbformat": 4,
 "nbformat_minor": 5
}
